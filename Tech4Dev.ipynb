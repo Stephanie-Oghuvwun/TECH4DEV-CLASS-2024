{
 "cells": [
  {
   "cell_type": "markdown",
   "id": "fde8aa76",
   "metadata": {},
   "source": [
    "Write 20 methods used in modifying LIST, TUPLE and DICTIONARY with a python code"
   ]
  },
  {
   "cell_type": "markdown",
   "id": "b177bde1",
   "metadata": {},
   "source": [
    "FOR LIST"
   ]
  },
  {
   "cell_type": "code",
   "execution_count": 15,
   "id": "2b4f584b",
   "metadata": {
    "scrolled": true
   },
   "outputs": [
    {
     "data": {
      "text/plain": [
       "[2, 4, 12, 'Stephy', 'Rukky', 'Rukevwe', 'Oghuvwun']"
      ]
     },
     "execution_count": 15,
     "metadata": {},
     "output_type": "execute_result"
    }
   ],
   "source": [
    "OgheneR=[2,4,12,'Stephy','Rukky','Rukevwe','Oghuvwun']\n",
    "OgheneR"
   ]
  },
  {
   "cell_type": "code",
   "execution_count": 18,
   "id": "40aa4110",
   "metadata": {},
   "outputs": [
    {
     "data": {
      "text/plain": [
       "[2, 4, 12, 'Stephy', 'Rukky', 'Rukevwe', 'Oghuvwun', 'Daddy', 'Daddy']"
      ]
     },
     "execution_count": 18,
     "metadata": {},
     "output_type": "execute_result"
    }
   ],
   "source": [
    "OgheneR.append('Daddy')\n",
    "OgheneR"
   ]
  },
  {
   "cell_type": "code",
   "execution_count": 19,
   "id": "8a9caf88",
   "metadata": {},
   "outputs": [],
   "source": [
    "OgheneR.insert(7,'Mom')"
   ]
  },
  {
   "cell_type": "code",
   "execution_count": 21,
   "id": "090ddcc4",
   "metadata": {},
   "outputs": [
    {
     "data": {
      "text/plain": [
       "2"
      ]
     },
     "execution_count": 21,
     "metadata": {},
     "output_type": "execute_result"
    }
   ],
   "source": [
    "OgheneR.count('Daddy')"
   ]
  },
  {
   "cell_type": "code",
   "execution_count": 31,
   "id": "bd5b0a87",
   "metadata": {},
   "outputs": [],
   "source": [
    "Bambam=OgheneR.copy()"
   ]
  },
  {
   "cell_type": "code",
   "execution_count": 32,
   "id": "353ec9ef",
   "metadata": {},
   "outputs": [
    {
     "data": {
      "text/plain": [
       "[2, 4, 12, 'Stephy', 'Rukky', 'Rukevwe', 'Oghuvwun', 'Mom', 'Daddy', 'Daddy']"
      ]
     },
     "execution_count": 32,
     "metadata": {},
     "output_type": "execute_result"
    }
   ],
   "source": [
    "Bambam"
   ]
  },
  {
   "cell_type": "code",
   "execution_count": 23,
   "id": "2762f170",
   "metadata": {
    "scrolled": true
   },
   "outputs": [
    {
     "data": {
      "text/plain": [
       "8"
      ]
     },
     "execution_count": 23,
     "metadata": {},
     "output_type": "execute_result"
    }
   ],
   "source": [
    "OgheneR.index('Daddy')"
   ]
  },
  {
   "cell_type": "code",
   "execution_count": 33,
   "id": "bbdb010a",
   "metadata": {},
   "outputs": [
    {
     "data": {
      "text/plain": [
       "'Daddy'"
      ]
     },
     "execution_count": 33,
     "metadata": {},
     "output_type": "execute_result"
    }
   ],
   "source": [
    "Bambam.pop()"
   ]
  },
  {
   "cell_type": "code",
   "execution_count": 34,
   "id": "b0c35ee9",
   "metadata": {},
   "outputs": [
    {
     "data": {
      "text/plain": [
       "[2, 4, 12, 'Stephy', 'Rukky', 'Rukevwe', 'Oghuvwun', 'Mom', 'Daddy']"
      ]
     },
     "execution_count": 34,
     "metadata": {},
     "output_type": "execute_result"
    }
   ],
   "source": [
    "Bambam"
   ]
  },
  {
   "cell_type": "code",
   "execution_count": null,
   "id": "3a255f30",
   "metadata": {},
   "outputs": [],
   "source": [
    "OgheneR=[2, 4, 12, 'Stephy', 'Rukky', 'Rukevwe', 'Oghuvwun', 'Mom', 'Daddy', 'Daddy']\n",
    "OgheneR.remove(4)\n",
    "OgheneR"
   ]
  },
  {
   "cell_type": "markdown",
   "id": "51d189a2",
   "metadata": {},
   "source": [
    "FOR TUPPLES"
   ]
  },
  {
   "cell_type": "code",
   "execution_count": 13,
   "id": "74d83b01",
   "metadata": {},
   "outputs": [
    {
     "data": {
      "text/plain": [
       "(7, 19, 49, 4, 10, 47, 4)"
      ]
     },
     "execution_count": 13,
     "metadata": {},
     "output_type": "execute_result"
    }
   ],
   "source": [
    "Phanie=(7,19,49,4,10,47,4)\n",
    "Phanie"
   ]
  },
  {
   "cell_type": "code",
   "execution_count": 14,
   "id": "913f52e4",
   "metadata": {},
   "outputs": [
    {
     "data": {
      "text/plain": [
       "7"
      ]
     },
     "execution_count": 14,
     "metadata": {},
     "output_type": "execute_result"
    }
   ],
   "source": [
    "len(Phanie)"
   ]
  },
  {
   "cell_type": "code",
   "execution_count": 18,
   "id": "730107a4",
   "metadata": {},
   "outputs": [
    {
     "data": {
      "text/plain": [
       "2"
      ]
     },
     "execution_count": 18,
     "metadata": {},
     "output_type": "execute_result"
    }
   ],
   "source": [
    "Phanie.count(4)"
   ]
  },
  {
   "cell_type": "code",
   "execution_count": 20,
   "id": "4dbe2ebe",
   "metadata": {
    "scrolled": true
   },
   "outputs": [
    {
     "data": {
      "text/plain": [
       "2"
      ]
     },
     "execution_count": 20,
     "metadata": {},
     "output_type": "execute_result"
    }
   ],
   "source": [
    "Phanie.index(49)"
   ]
  },
  {
   "cell_type": "code",
   "execution_count": 22,
   "id": "40be1841",
   "metadata": {
    "scrolled": true
   },
   "outputs": [
    {
     "data": {
      "text/plain": [
       "4"
      ]
     },
     "execution_count": 22,
     "metadata": {},
     "output_type": "execute_result"
    }
   ],
   "source": [
    "min(Phanie)"
   ]
  },
  {
   "cell_type": "code",
   "execution_count": 23,
   "id": "1582b03e",
   "metadata": {},
   "outputs": [
    {
     "data": {
      "text/plain": [
       "49"
      ]
     },
     "execution_count": 23,
     "metadata": {},
     "output_type": "execute_result"
    }
   ],
   "source": [
    "max(Phanie)"
   ]
  },
  {
   "cell_type": "code",
   "execution_count": 25,
   "id": "dda5943e",
   "metadata": {
    "scrolled": true
   },
   "outputs": [
    {
     "data": {
      "text/plain": [
       "140"
      ]
     },
     "execution_count": 25,
     "metadata": {},
     "output_type": "execute_result"
    }
   ],
   "source": [
    "sum(Phanie)"
   ]
  },
  {
   "cell_type": "markdown",
   "id": "6c891543",
   "metadata": {},
   "source": [
    "DICTIONARY"
   ]
  },
  {
   "cell_type": "code",
   "execution_count": 27,
   "id": "99966212",
   "metadata": {
    "scrolled": true
   },
   "outputs": [
    {
     "data": {
      "text/plain": [
       "{'Bams': 'fair', 'Sophia': 'Black_beauty', 'Sam': 'Chocolate'}"
      ]
     },
     "execution_count": 27,
     "metadata": {},
     "output_type": "execute_result"
    }
   ],
   "source": [
    "My_dict={'Bams':'fair','Sophia':'Black_beauty','Sam':'Chocolate'}\n",
    "My_dict"
   ]
  },
  {
   "cell_type": "code",
   "execution_count": 28,
   "id": "97bd274b",
   "metadata": {},
   "outputs": [],
   "source": [
    "Final_dict=My_dict.copy()"
   ]
  },
  {
   "cell_type": "code",
   "execution_count": 30,
   "id": "0506c838",
   "metadata": {
    "scrolled": true
   },
   "outputs": [
    {
     "data": {
      "text/plain": [
       "'Chocolate'"
      ]
     },
     "execution_count": 30,
     "metadata": {},
     "output_type": "execute_result"
    }
   ],
   "source": [
    "Final_dict.get('Sam')"
   ]
  },
  {
   "cell_type": "code",
   "execution_count": 31,
   "id": "d4d34f57",
   "metadata": {
    "scrolled": true
   },
   "outputs": [
    {
     "data": {
      "text/plain": [
       "dict_items([('Bams', 'fair'), ('Sophia', 'Black_beauty'), ('Sam', 'Chocolate')])"
      ]
     },
     "execution_count": 31,
     "metadata": {},
     "output_type": "execute_result"
    }
   ],
   "source": [
    "Final_dict.items()"
   ]
  },
  {
   "cell_type": "code",
   "execution_count": 32,
   "id": "f4709007",
   "metadata": {
    "scrolled": true
   },
   "outputs": [
    {
     "data": {
      "text/plain": [
       "dict_keys(['Bams', 'Sophia', 'Sam'])"
      ]
     },
     "execution_count": 32,
     "metadata": {},
     "output_type": "execute_result"
    }
   ],
   "source": [
    "Final_dict.keys()"
   ]
  },
  {
   "cell_type": "code",
   "execution_count": 34,
   "id": "99a1a2e4",
   "metadata": {
    "scrolled": true
   },
   "outputs": [
    {
     "data": {
      "text/plain": [
       "dict_values(['fair', 'Black_beauty', 'Chocolate'])"
      ]
     },
     "execution_count": 34,
     "metadata": {},
     "output_type": "execute_result"
    }
   ],
   "source": [
    "Final_dict.values()"
   ]
  },
  {
   "cell_type": "code",
   "execution_count": 36,
   "id": "c48ffda8",
   "metadata": {
    "scrolled": true
   },
   "outputs": [
    {
     "data": {
      "text/plain": [
       "{'Bams': 'fair', 'Sophia': 'Black_beauty', 'Sam': 'Chocolate', 'Cynthia': 4}"
      ]
     },
     "execution_count": 36,
     "metadata": {},
     "output_type": "execute_result"
    }
   ],
   "source": [
    "ds={'Cynthia':4}\n",
    "Final_dict.update(ds)\n",
    "Final_dict"
   ]
  },
  {
   "cell_type": "code",
   "execution_count": 38,
   "id": "14c48c24",
   "metadata": {
    "scrolled": true
   },
   "outputs": [
    {
     "data": {
      "text/plain": [
       "{}"
      ]
     },
     "execution_count": 38,
     "metadata": {},
     "output_type": "execute_result"
    }
   ],
   "source": [
    "Final_dict.clear()\n",
    "Final_dict"
   ]
  },
  {
   "cell_type": "code",
   "execution_count": 6,
   "id": "077cc249",
   "metadata": {},
   "outputs": [
    {
     "name": "stdout",
     "output_type": "stream",
     "text": [
      "Type a number: 8\n",
      "Type a number: 2\n",
      "Type a number: -1\n",
      "Average was 5.0\n"
     ]
    }
   ],
   "source": [
    "def printAverage():\n",
    "    total=0\n",
    "    count=0\n",
    "while True:\n",
    "    prompt=input('Type a number: ')\n",
    "    if int(prompt) <0:\n",
    "        if count==0:\n",
    "            print('A negative number was entered')\n",
    "        else:\n",
    "            alg=total/count\n",
    "            print(f'Average was {alg}')\n",
    "        break\n",
    "    count +=1\n",
    "    total+=int(prompt)\n",
    "\n",
    "printAverage()"
   ]
  },
  {
   "cell_type": "code",
   "execution_count": 5,
   "id": "7b93e515",
   "metadata": {},
   "outputs": [
    {
     "name": "stdout",
     "output_type": "stream",
     "text": [
      "Type a number: 7\n",
      "Type a number: 3\n",
      "Type a number: -1\n",
      "Average was 5.0\n"
     ]
    }
   ],
   "source": [
    "total=0\n",
    "count=0\n",
    "while True:\n",
    "    prompt=input('Type a number: ')\n",
    "    if int(prompt) <0:\n",
    "        if count==0:\n",
    "            print('A negative number was entered')\n",
    "        else:\n",
    "            alg=total/count\n",
    "            print(f'Average was {alg}')\n",
    "        break\n",
    "    count +=1\n",
    "    total+=int(prompt)\n"
   ]
  },
  {
   "cell_type": "code",
   "execution_count": null,
   "id": "5f5bb986",
   "metadata": {},
   "outputs": [],
   "source": []
  }
 ],
 "metadata": {
  "kernelspec": {
   "display_name": "Python 3 (ipykernel)",
   "language": "python",
   "name": "python3"
  },
  "language_info": {
   "codemirror_mode": {
    "name": "ipython",
    "version": 3
   },
   "file_extension": ".py",
   "mimetype": "text/x-python",
   "name": "python",
   "nbconvert_exporter": "python",
   "pygments_lexer": "ipython3",
   "version": "3.11.4"
  }
 },
 "nbformat": 4,
 "nbformat_minor": 5
}
